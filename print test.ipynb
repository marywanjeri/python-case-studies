{
 "cells": [
  {
   "cell_type": "code",
   "execution_count": 1,
   "metadata": {},
   "outputs": [
    {
     "name": "stdout",
     "output_type": "stream",
     "text": [
      "Hello Mary\n",
      "Name: Mary\n"
     ]
    }
   ],
   "source": [
    "name= \"Mary\"\n",
    "print(\"Hello \" +name)\n",
    "print(\"Name: \"+name)\n"
   ]
  },
  {
   "cell_type": "code",
   "execution_count": 2,
   "metadata": {},
   "outputs": [
    {
     "name": "stdout",
     "output_type": "stream",
     "text": [
      "{0: 0.21233711729008303, 1: -0.6130055422048857, 2: 0.19382586327336587, 3: 0.42054033696621673, 4: 1.3256854582491446, 5: 1.2256736457870387, 6: 1.383490488468633}\n"
     ]
    }
   ],
   "source": [
    "\n",
    "from numpy. random import randn\n",
    "data = {i : randn() for i in range(7)}\n",
    "print (data)"
   ]
  },
  {
   "cell_type": "code",
   "execution_count": 3,
   "metadata": {},
   "outputs": [
    {
     "name": "stdout",
     "output_type": "stream",
     "text": [
      "1\n"
     ]
    }
   ],
   "source": [
    "a= 1\n",
    "print(a)\n"
   ]
  },
  {
   "cell_type": "code",
   "execution_count": 4,
   "metadata": {},
   "outputs": [
    {
     "name": "stdout",
     "output_type": "stream",
     "text": [
      "41.3 µs ± 1.62 µs per loop (mean ± std. dev. of 7 runs, 10,000 loops each)\n",
      "1\n"
     ]
    },
    {
     "ename": "NameError",
     "evalue": "name '_ip' is not defined",
     "output_type": "error",
     "traceback": [
      "\u001b[1;31m---------------------------------------------------------------------------\u001b[0m",
      "\u001b[1;31mNameError\u001b[0m                                 Traceback (most recent call last)",
      "Cell \u001b[1;32mIn[4], line 8\u001b[0m\n\u001b[0;32m      6\u001b[0m a\u001b[39m=\u001b[39m \u001b[39m1\u001b[39m\n\u001b[0;32m      7\u001b[0m \u001b[39mprint\u001b[39m(a)\n\u001b[1;32m----> 8\u001b[0m \u001b[39m'\u001b[39m\u001b[39ma\u001b[39m\u001b[39m'\u001b[39m \u001b[39min\u001b[39;00m _ip\u001b[39m.\u001b[39muser_ns\n",
      "\u001b[1;31mNameError\u001b[0m: name '_ip' is not defined"
     ]
    }
   ],
   "source": [
    "import numpy as np\n",
    "from numpy. random import randn\n",
    "a= np.random.randn(100,100)\n",
    "\n",
    "%timeit np.dot(a,a)\n",
    "a= 1\n",
    "print(a)\n",
    "'a' in _ip.user_ns"
   ]
  }
 ],
 "metadata": {
  "kernelspec": {
   "display_name": "Python 3",
   "language": "python",
   "name": "python3"
  },
  "language_info": {
   "codemirror_mode": {
    "name": "ipython",
    "version": 3
   },
   "file_extension": ".py",
   "mimetype": "text/x-python",
   "name": "python",
   "nbconvert_exporter": "python",
   "pygments_lexer": "ipython3",
   "version": "3.11.2"
  },
  "orig_nbformat": 4
 },
 "nbformat": 4,
 "nbformat_minor": 2
}
